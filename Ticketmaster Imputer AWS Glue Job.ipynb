{
	"metadata": {
		"kernelspec": {
			"name": "glue_pyspark",
			"display_name": "Glue PySpark",
			"language": "python"
		},
		"language_info": {
			"name": "Python_Glue_Session",
			"mimetype": "text/x-python",
			"codemirror_mode": {
				"name": "python",
				"version": 3
			},
			"pygments_lexer": "python3",
			"file_extension": ".py"
		}
	},
	"nbformat_minor": 4,
	"nbformat": 4,
	"cells": [
		{
			"cell_type": "markdown",
			"source": "#### Ticketmaster Glue Job: Filling Null Numeric Values with 0s",
			"metadata": {
				"editable": true,
				"trusted": true
			}
		},
		{
			"cell_type": "markdown",
			"source": "#### Optional: Run this cell to see available notebook commands (\"magics\").\n",
			"metadata": {
				"editable": true,
				"trusted": true
			}
		},
		{
			"cell_type": "code",
			"source": "%help",
			"metadata": {
				"trusted": true,
				"editable": true
			},
			"execution_count": null,
			"outputs": []
		},
		{
			"cell_type": "markdown",
			"source": "####  Run this cell to set up and start your interactive session.\n",
			"metadata": {
				"editable": true,
				"trusted": true
			}
		},
		{
			"cell_type": "code",
			"source": "%idle_timeout 2880\n%glue_version 4.0\n%worker_type G.1X\n%number_of_workers 5\n\nimport sys\nfrom awsglue.transforms import *\nfrom awsglue.utils import getResolvedOptions\nfrom pyspark.context import SparkContext\nfrom awsglue.context import GlueContext\nfrom awsglue.job import Job\n  \nsc = SparkContext.getOrCreate()\nglueContext = GlueContext(sc)\nspark = glueContext.spark_session\njob = Job(glueContext)",
			"metadata": {
				"trusted": true,
				"editable": true
			},
			"execution_count": 15,
			"outputs": [
				{
					"name": "stderr",
					"text": "You are already connected to a glueetl session 5f0144b8-2dd2-4822-9cfb-1441d957ec88.\n\nNo change will be made to the current session that is set as glueetl. The session configuration change will apply to newly created sessions.\n",
					"output_type": "stream"
				},
				{
					"name": "stdout",
					"text": "Current idle_timeout is 2880 minutes.\nidle_timeout has been set to 2880 minutes.\n",
					"output_type": "stream"
				},
				{
					"name": "stderr",
					"text": "You are already connected to a glueetl session 5f0144b8-2dd2-4822-9cfb-1441d957ec88.\n\nNo change will be made to the current session that is set as glueetl. The session configuration change will apply to newly created sessions.\n",
					"output_type": "stream"
				},
				{
					"name": "stdout",
					"text": "Setting Glue version to: 4.0\n",
					"output_type": "stream"
				},
				{
					"name": "stderr",
					"text": "You are already connected to a glueetl session 5f0144b8-2dd2-4822-9cfb-1441d957ec88.\n\nNo change will be made to the current session that is set as glueetl. The session configuration change will apply to newly created sessions.\n",
					"output_type": "stream"
				},
				{
					"name": "stdout",
					"text": "Previous worker type: G.1X\nSetting new worker type to: G.1X\n",
					"output_type": "stream"
				},
				{
					"name": "stderr",
					"text": "You are already connected to a glueetl session 5f0144b8-2dd2-4822-9cfb-1441d957ec88.\n\nNo change will be made to the current session that is set as glueetl. The session configuration change will apply to newly created sessions.\n",
					"output_type": "stream"
				},
				{
					"name": "stdout",
					"text": "Previous number of workers: 5\nSetting new number of workers to: 5\n\n",
					"output_type": "stream"
				}
			]
		},
		{
			"cell_type": "markdown",
			"source": "#### Create a DynamicFrame from a table in the AWS Glue Data Catalog and display its schema\n",
			"metadata": {
				"editable": true,
				"trusted": true
			}
		},
		{
			"cell_type": "code",
			"source": "dyf = glueContext.create_dynamic_frame.from_catalog(database='tm-end-database', table_name='ticketmaster_data_csv')\ndyf.printSchema()",
			"metadata": {
				"trusted": true,
				"editable": true
			},
			"execution_count": 16,
			"outputs": [
				{
					"name": "stdout",
					"text": "root\n|-- event_id: string\n|-- event_name: string\n|-- event_url: string\n|-- event_date: string\n|-- event_time: string\n|-- event_genre: string\n|-- event_subgenre: string\n|-- min_price: double\n|-- max_price: double\n|-- ticket_limit: long\n|-- venue_id: string\n|-- venue_name: string\n|-- venue_city: string\n|-- venue_address: string\n|-- venue_state: string\n|-- venue_latitude: double\n|-- venue_longitude: double\n|-- venue_market: string\n|-- main_attraction: string\n",
					"output_type": "stream"
				}
			]
		},
		{
			"cell_type": "markdown",
			"source": "#### Convert the DynamicFrame to a Spark DataFrame and display a sample of the data\n",
			"metadata": {
				"editable": true,
				"trusted": true
			}
		},
		{
			"cell_type": "code",
			"source": "df = dyf.toDF()\ndf.show()",
			"metadata": {
				"trusted": true,
				"editable": true
			},
			"execution_count": 17,
			"outputs": [
				{
					"name": "stdout",
					"text": "+-----------------+--------------------+--------------------+----------+----------+-----------+--------------+---------+---------+------------+------------+--------------------+---------------+--------------------+-------------+--------------+---------------+--------------------+-------------------+\n|         event_id|          event_name|           event_url|event_date|event_time|event_genre|event_subgenre|min_price|max_price|ticket_limit|    venue_id|          venue_name|     venue_city|       venue_address|  venue_state|venue_latitude|venue_longitude|        venue_market|    main_attraction|\n+-----------------+--------------------+--------------------+----------+----------+-----------+--------------+---------+---------+------------+------------+--------------------+---------------+--------------------+-------------+--------------+---------------+--------------------+-------------------+\n|   vvG1bZ9MwOsvtU|P!NK: Summer Carn...|https://www.ticke...|2024-08-10|  18:30:00|       Rock|           Pop|    39.95|   339.95|           4|KovZpZA6AJeA|The Dome at Ameri...|    Saint Louis|701 Convention Plaza|     Missouri|     38.630801|     -90.191488|Saint Louis and More|               P!NK|\n|   vvG17Z9MBX0JyU|P!NK: Summer Carn...|https://www.ticke...|2024-08-21|  18:30:00|       Rock|           Pop|    59.11|    340.0|           4|KovZpZA6kvlA|    Gillette Stadium|     Foxborough|     1 Patriot Place|Massachusetts|     42.090918|     -71.264321|              Boston|               P!NK|\n|    k7vGFbCN5nPpg|Return of the Blu...|https://www.ticke...|2024-08-02|  17:30:00|   Football|           NFL|     null|     null|        null|KovZpZAdJ1vA|    Highmark Stadium|   Orchard Park|       1 Bills Drive|     New York|     42.773743|     -78.786955|    Upstate New York|      Buffalo Bills|\n|   vvG18Z9Mzzn05q|P!NK: Summer Carn...|https://www.ticke...|2024-08-24|  18:30:00|       Rock|           Pop|    49.95|   349.95|          20|KovZpZAF6tIA|       Soldier Field|        Chicago|1410 S. Museum Ca...|     Illinois|   41.86205404|   -87.61682143|Chicagoland and N...|               P!NK|\n|   vvG1FZ9MMoSUKo|P!NK: Summer Carn...|https://www.ticke...|2024-08-18|  18:30:00|       Rock|           Pop|    49.95|   319.95|           4|  KovZpa2yme|Lincoln Financial...|   Philadelphia|One Lincoln Finan...| Pennsylvania|     39.900706|     -75.167406|        Philadelphia|               P!NK|\n|    k7vGF9z6xPpDI|P!NK: Summer Carn...|https://www.ticke...|2024-10-03|  18:30:00|       Rock|           Pop|     56.0|    326.0|           4|  KovZpakS7e|     MetLife Stadium|East Rutherford|One MetLife Stadi...|   New Jersey|      40.81359|     -74.074493|New York/Tri-Stat...|               P!NK|\n|   vvG1fZ9MD144Ni|P!NK: Summer Carn...|https://www.ticke...|2024-10-12|  18:30:00|       Rock|           Pop|    49.95|   299.95|           4|KovZpZAdEJEA|   Lucas Oil Stadium|   Indianapolis| 500 S. Capitol Ave.|      Indiana|      39.76007|     -86.163821|Indianapolis and ...|               P!NK|\n|   vvG1YZ9ASfN7Jv|P!NK: Summer Carn...|https://www.ticke...|2024-11-06|  18:30:00|       Rock|           Pop|     30.0|   374.95|           4| KovZ917A-X0|    Globe Life Field|      Arlington|   734 Stadium Drive|        Texas|     32.747242|     -97.083796|Dallas - Fort Wor...|               P!NK|\n|    G5vjZ9MgvYMih|P!NK: Summer Carn...|https://www.ticke...|2024-09-13|  18:30:00|       Rock|           Pop|     70.0|   299.95|           4| KovZ917Ax7n|   Allegiant Stadium|      Las Vegas|   3333 Al Davis Way|       Nevada|       36.0909|      -115.1833|           Las Vegas|               P!NK|\n|  1AvjZbaGkMZUx3l|Eagles Live at Sp...|https://www.ticke...|2024-09-20|  20:30:00|       Rock|           Pop|    127.5|    318.5|           4| KovZ917Atbr|              Sphere|      Las Vegas|    255 Sands Avenue|       Nevada|    36.1207267|   -115.1642896|           Las Vegas|             Eagles|\n|    k7vGF9MQsrwdx|P!NK: Summer Carn...|https://www.ticke...|2024-10-06|  18:30:00|       Rock|           Pop|    49.95|    330.0|           4|  KovZpakwYe|  JMA Wireless Dome |       Syracuse|   900 Irving Avenue|     New York|   43.03626312|    -76.1361305|    Upstate New York|               P!NK|\n|   vvG1IZ9MV6Cf_5|P!NK: Summer Carn...|https://www.ticke...|2024-09-11|  18:30:00|       Rock|           Pop|    45.95|   299.95|        null|  KovZpa4cFe|          Petco Park|      San Diego|       100 Park Blvd|   California|   32.70709659|  -117.15680771|           San Diego|               P!NK|\n|    G5eFZ9MMqasQK|P!NK: Summer Carn...|https://www.ticke...|2024-11-18|  18:30:00|       Rock|           Pop|    49.95|   299.95|           4|KovZpZAJFAkA|Camping World Sta...|        Orlando| 1 Citrus Bowl Place|      Florida|     28.538255|     -81.402071|             Orlando|               P!NK|\n|   vvG18Zb5epIszq|Discover NHL Wint...|https://www.ticke...|2024-12-31|  16:00:00|     Hockey|           NHL|    125.0|   875.05|           4|KovZpZAFlktA|       Wrigley Field|        Chicago|   1060 West Addison|     Illinois|     41.947304|     -87.656447|Chicagoland and N...|NHL Winter Classic®|\n|   vvG1FZ9zk0cfPA|P!NK: Summer Carn...|https://www.ticke...|2024-10-01|  18:30:00|       Rock|           Pop|    49.95|   319.95|           4|  KovZpaoU8e| Hersheypark Stadium|        Hershey|100 W Hersheypark Dr| Pennsylvania|     40.290715|     -76.660281|        Philadelphia|               P!NK|\n|   vvG1iZ9MU99saA|P!NK: Summer Carn...|https://www.ticke...|2024-09-15|  18:30:00|       Rock|           Pop|    49.95|   299.95|           4|  KovZpa2W1e|      Dodger Stadium|    Los Angeles|1000 Elysian Park...|   California|   34.07359365|  -118.23992227|         Los Angeles|               P!NK|\n|    G5d0Z9YlaQsP_|SHANIA TWAIN - CO...|https://www.ticke...|2024-08-23|  20:00:00|    Country|       Country|    100.0|    452.0|           4|KovZpZAJalEA|Bakkt Theater at ...|      Las Vegas|3667 S Las Vegas ...|       Nevada|   36.10961689|  -115.17247058|           Las Vegas|       Shania Twain|\n|vv1A7ZkeKGkduOwi0|Imagine Dragons: ...|https://concerts....|2024-08-18|  19:00:00|       Rock|           Pop|     50.0|    229.5|          20|KovZpZAEktFA|Credit Union 1 Am...|    Tinley Park|   19100 S Ridgeland|     Illinois|    41.5426094|    -87.7711753|Chicagoland and N...|    Imagine Dragons|\n|   vvG1FZbGntEKAq|Philadelphia Eagl...|https://www.ticke...|2024-08-01|  18:30:00|   Football|           NFL|     10.0|     10.0|        null|  KovZpa2yme|Lincoln Financial...|   Philadelphia|One Lincoln Finan...| Pennsylvania|     39.900706|     -75.167406|        Philadelphia|Philadelphia Eagles|\n| vv1AOvO0tGA23Kqd|Imagine Dragons: ...|https://concerts....|2024-07-30|  19:00:00|       Rock|           Pop|     39.5|    179.5|           4|KovZpZAEAIEA|Freedom Mortgage ...|         Camden|      1 Harbour Blvd|   New Jersey|     39.940917|      -75.12875|        Philadelphia|    Imagine Dragons|\n+-----------------+--------------------+--------------------+----------+----------+-----------+--------------+---------+---------+------------+------------+--------------------+---------------+--------------------+-------------+--------------+---------------+--------------------+-------------------+\nonly showing top 20 rows\n",
					"output_type": "stream"
				}
			]
		},
		{
			"cell_type": "code",
			"source": "if df.head(1):\n    df = df.fillna ({\n        'min_price':0,\n        'max_price':0,\n        'ticket_limit':0\n    })\n    df.write.mode(\"overwrite\").option(\"header\", \"true\").csv(\"s3://ticketmaster-data/ticketmaster-export/imputed_csv/\")",
			"metadata": {
				"trusted": true,
				"tags": []
			},
			"execution_count": 26,
			"outputs": [
				{
					"name": "stdout",
					"text": "\n",
					"output_type": "stream"
				}
			]
		},
		{
			"cell_type": "code",
			"source": "df_check = spark.read.option(\"header\", \"true\").csv(\"s3://ticketmaster-data/ticketmaster-export/imputed_csv/\")",
			"metadata": {
				"trusted": true,
				"tags": []
			},
			"execution_count": 27,
			"outputs": [
				{
					"name": "stdout",
					"text": "\n",
					"output_type": "stream"
				}
			]
		},
		{
			"cell_type": "code",
			"source": "df_check.show()",
			"metadata": {
				"trusted": true,
				"tags": []
			},
			"execution_count": 28,
			"outputs": [
				{
					"name": "stdout",
					"text": "+-----------------+--------------------+--------------------+----------+----------+-----------+--------------+---------+---------+------------+------------+--------------------+---------------+--------------------+-------------+--------------+---------------+--------------------+-------------------+\n|         event_id|          event_name|           event_url|event_date|event_time|event_genre|event_subgenre|min_price|max_price|ticket_limit|    venue_id|          venue_name|     venue_city|       venue_address|  venue_state|venue_latitude|venue_longitude|        venue_market|    main_attraction|\n+-----------------+--------------------+--------------------+----------+----------+-----------+--------------+---------+---------+------------+------------+--------------------+---------------+--------------------+-------------+--------------+---------------+--------------------+-------------------+\n|   vvG1bZ9MwOsvtU|P!NK: Summer Carn...|https://www.ticke...|2024-08-10|  18:30:00|       Rock|           Pop|    39.95|   339.95|           4|KovZpZA6AJeA|The Dome at Ameri...|    Saint Louis|701 Convention Plaza|     Missouri|     38.630801|     -90.191488|Saint Louis and More|               P!NK|\n|   vvG17Z9MBX0JyU|P!NK: Summer Carn...|https://www.ticke...|2024-08-21|  18:30:00|       Rock|           Pop|    59.11|    340.0|           4|KovZpZA6kvlA|    Gillette Stadium|     Foxborough|     1 Patriot Place|Massachusetts|     42.090918|     -71.264321|              Boston|               P!NK|\n|    k7vGFbCN5nPpg|Return of the Blu...|https://www.ticke...|2024-08-02|  17:30:00|   Football|           NFL|      0.0|      0.0|           0|KovZpZAdJ1vA|    Highmark Stadium|   Orchard Park|       1 Bills Drive|     New York|     42.773743|     -78.786955|    Upstate New York|      Buffalo Bills|\n|   vvG18Z9Mzzn05q|P!NK: Summer Carn...|https://www.ticke...|2024-08-24|  18:30:00|       Rock|           Pop|    49.95|   349.95|          20|KovZpZAF6tIA|       Soldier Field|        Chicago|1410 S. Museum Ca...|     Illinois|   41.86205404|   -87.61682143|Chicagoland and N...|               P!NK|\n|   vvG1FZ9MMoSUKo|P!NK: Summer Carn...|https://www.ticke...|2024-08-18|  18:30:00|       Rock|           Pop|    49.95|   319.95|           4|  KovZpa2yme|Lincoln Financial...|   Philadelphia|One Lincoln Finan...| Pennsylvania|     39.900706|     -75.167406|        Philadelphia|               P!NK|\n|    k7vGF9z6xPpDI|P!NK: Summer Carn...|https://www.ticke...|2024-10-03|  18:30:00|       Rock|           Pop|     56.0|    326.0|           4|  KovZpakS7e|     MetLife Stadium|East Rutherford|One MetLife Stadi...|   New Jersey|      40.81359|     -74.074493|New York/Tri-Stat...|               P!NK|\n|   vvG1fZ9MD144Ni|P!NK: Summer Carn...|https://www.ticke...|2024-10-12|  18:30:00|       Rock|           Pop|    49.95|   299.95|           4|KovZpZAdEJEA|   Lucas Oil Stadium|   Indianapolis| 500 S. Capitol Ave.|      Indiana|      39.76007|     -86.163821|Indianapolis and ...|               P!NK|\n|   vvG1YZ9ASfN7Jv|P!NK: Summer Carn...|https://www.ticke...|2024-11-06|  18:30:00|       Rock|           Pop|     30.0|   374.95|           4| KovZ917A-X0|    Globe Life Field|      Arlington|   734 Stadium Drive|        Texas|     32.747242|     -97.083796|Dallas - Fort Wor...|               P!NK|\n|    G5vjZ9MgvYMih|P!NK: Summer Carn...|https://www.ticke...|2024-09-13|  18:30:00|       Rock|           Pop|     70.0|   299.95|           4| KovZ917Ax7n|   Allegiant Stadium|      Las Vegas|   3333 Al Davis Way|       Nevada|       36.0909|      -115.1833|           Las Vegas|               P!NK|\n|  1AvjZbaGkMZUx3l|Eagles Live at Sp...|https://www.ticke...|2024-09-20|  20:30:00|       Rock|           Pop|    127.5|    318.5|           4| KovZ917Atbr|              Sphere|      Las Vegas|    255 Sands Avenue|       Nevada|    36.1207267|   -115.1642896|           Las Vegas|             Eagles|\n|    k7vGF9MQsrwdx|P!NK: Summer Carn...|https://www.ticke...|2024-10-06|  18:30:00|       Rock|           Pop|    49.95|    330.0|           4|  KovZpakwYe|   JMA Wireless Dome|       Syracuse|   900 Irving Avenue|     New York|   43.03626312|    -76.1361305|    Upstate New York|               P!NK|\n|   vvG1IZ9MV6Cf_5|P!NK: Summer Carn...|https://www.ticke...|2024-09-11|  18:30:00|       Rock|           Pop|    45.95|   299.95|           0|  KovZpa4cFe|          Petco Park|      San Diego|       100 Park Blvd|   California|   32.70709659|  -117.15680771|           San Diego|               P!NK|\n|    G5eFZ9MMqasQK|P!NK: Summer Carn...|https://www.ticke...|2024-11-18|  18:30:00|       Rock|           Pop|    49.95|   299.95|           4|KovZpZAJFAkA|Camping World Sta...|        Orlando| 1 Citrus Bowl Place|      Florida|     28.538255|     -81.402071|             Orlando|               P!NK|\n|   vvG18Zb5epIszq|Discover NHL Wint...|https://www.ticke...|2024-12-31|  16:00:00|     Hockey|           NHL|    125.0|   875.05|           4|KovZpZAFlktA|       Wrigley Field|        Chicago|   1060 West Addison|     Illinois|     41.947304|     -87.656447|Chicagoland and N...|NHL Winter Classic®|\n|   vvG1FZ9zk0cfPA|P!NK: Summer Carn...|https://www.ticke...|2024-10-01|  18:30:00|       Rock|           Pop|    49.95|   319.95|           4|  KovZpaoU8e| Hersheypark Stadium|        Hershey|100 W Hersheypark Dr| Pennsylvania|     40.290715|     -76.660281|        Philadelphia|               P!NK|\n|   vvG1iZ9MU99saA|P!NK: Summer Carn...|https://www.ticke...|2024-09-15|  18:30:00|       Rock|           Pop|    49.95|   299.95|           4|  KovZpa2W1e|      Dodger Stadium|    Los Angeles|1000 Elysian Park...|   California|   34.07359365|  -118.23992227|         Los Angeles|               P!NK|\n|    G5d0Z9YlaQsP_|SHANIA TWAIN - CO...|https://www.ticke...|2024-08-23|  20:00:00|    Country|       Country|    100.0|    452.0|           4|KovZpZAJalEA|Bakkt Theater at ...|      Las Vegas|3667 S Las Vegas ...|       Nevada|   36.10961689|  -115.17247058|           Las Vegas|       Shania Twain|\n|vv1A7ZkeKGkduOwi0|Imagine Dragons: ...|https://concerts....|2024-08-18|  19:00:00|       Rock|           Pop|     50.0|    229.5|          20|KovZpZAEktFA|Credit Union 1 Am...|    Tinley Park|   19100 S Ridgeland|     Illinois|    41.5426094|    -87.7711753|Chicagoland and N...|    Imagine Dragons|\n|   vvG1FZbGntEKAq|Philadelphia Eagl...|https://www.ticke...|2024-08-01|  18:30:00|   Football|           NFL|     10.0|     10.0|           0|  KovZpa2yme|Lincoln Financial...|   Philadelphia|One Lincoln Finan...| Pennsylvania|     39.900706|     -75.167406|        Philadelphia|Philadelphia Eagles|\n| vv1AOvO0tGA23Kqd|Imagine Dragons: ...|https://concerts....|2024-07-30|  19:00:00|       Rock|           Pop|     39.5|    179.5|           4|KovZpZAEAIEA|Freedom Mortgage ...|         Camden|      1 Harbour Blvd|   New Jersey|     39.940917|      -75.12875|        Philadelphia|    Imagine Dragons|\n+-----------------+--------------------+--------------------+----------+----------+-----------+--------------+---------+---------+------------+------------+--------------------+---------------+--------------------+-------------+--------------+---------------+--------------------+-------------------+\nonly showing top 20 rows\n",
					"output_type": "stream"
				}
			]
		},
		{
			"cell_type": "code",
			"source": "from awsglue.dynamicframe import DynamicFrame",
			"metadata": {
				"trusted": true,
				"tags": []
			},
			"execution_count": 19,
			"outputs": [
				{
					"name": "stdout",
					"text": "\n",
					"output_type": "stream"
				}
			]
		},
		{
			"cell_type": "code",
			"source": "dynamic_frame = DynamicFrame.fromDF(df, glueContext, \"dynamic_frame\")",
			"metadata": {
				"trusted": true,
				"tags": []
			},
			"execution_count": 23,
			"outputs": [
				{
					"name": "stdout",
					"text": "\n",
					"output_type": "stream"
				}
			]
		},
		{
			"cell_type": "code",
			"source": "glueContext.write_dynamic_frame.from_options(\n    frame=dynamic_frame,\n    connection_type=\"s3\",\n    connection_options={\"path\": \"s3://ticketmaster-data/ticketmaster-export/imputed_csv/\"},\n    format=\"csv\", \n    format_options={\"withHeader\": True}\n)",
			"metadata": {
				"trusted": true,
				"tags": []
			},
			"execution_count": 24,
			"outputs": [
				{
					"name": "stdout",
					"text": "<awsglue.dynamicframe.DynamicFrame object at 0x7efc5288ad70>\n",
					"output_type": "stream"
				}
			]
		},
		{
			"cell_type": "markdown",
			"source": "#### Example: Write the data in the DynamicFrame to a location in Amazon S3 and a table for it in the AWS Glue Data Catalog\n",
			"metadata": {
				"editable": true,
				"trusted": true
			}
		},
		{
			"cell_type": "code",
			"source": "s3output = glueContext.getSink(\n  path=\"s3://ticketmaster-data/ticketmaster-export/imputed_csv/\",\n  connection_type=\"s3\",\n  updateBehavior=\"UPDATE_IN_DATABASE\",\n  partitionKeys=[],\n  enableUpdateCatalog=True,\n  transformation_ctx=\"s3output\",\n)\ns3output.setCatalogInfo(\n  catalogDatabase=\"tm-end-database\", catalogTableName=\"ticketmaster_imputed_data\"\n)\ns3output.setFormat(\"csv\")\ns3output.writeFrame(dynamic_frame)",
			"metadata": {
				"trusted": true,
				"editable": true
			},
			"execution_count": 25,
			"outputs": [
				{
					"name": "stdout",
					"text": "<awsglue.dynamicframe.DynamicFrame object at 0x7efc5288ab30>\n",
					"output_type": "stream"
				}
			]
		},
		{
			"cell_type": "code",
			"source": "",
			"metadata": {},
			"execution_count": null,
			"outputs": []
		}
	]
}